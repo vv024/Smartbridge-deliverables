{
 "cells": [
  {
   "cell_type": "code",
   "execution_count": 2,
   "id": "4537a128",
   "metadata": {},
   "outputs": [],
   "source": [
    "# 1. Download the dataset and\n",
    "\n",
    "# Import the necessary libraries\n",
    "import numpy as np\n",
    "import pandas as pd\n",
    "import seaborn as sns\n",
    "import matplotlib.pyplot as plt"
   ]
  },
  {
   "cell_type": "code",
   "execution_count": 3,
   "id": "9c81c6ac",
   "metadata": {},
   "outputs": [],
   "source": [
    "# 2. Load the dataset into the tool.\n",
    "\n",
    "data = pd.read_csv('Housing.csv')"
   ]
  },
  {
   "cell_type": "code",
   "execution_count": 4,
   "id": "bfbf169d",
   "metadata": {},
   "outputs": [
    {
     "data": {
      "text/html": [
       "<div>\n",
       "<style scoped>\n",
       "    .dataframe tbody tr th:only-of-type {\n",
       "        vertical-align: middle;\n",
       "    }\n",
       "\n",
       "    .dataframe tbody tr th {\n",
       "        vertical-align: top;\n",
       "    }\n",
       "\n",
       "    .dataframe thead th {\n",
       "        text-align: right;\n",
       "    }\n",
       "</style>\n",
       "<table border=\"1\" class=\"dataframe\">\n",
       "  <thead>\n",
       "    <tr style=\"text-align: right;\">\n",
       "      <th></th>\n",
       "      <th>price</th>\n",
       "      <th>area</th>\n",
       "      <th>bedrooms</th>\n",
       "      <th>bathrooms</th>\n",
       "      <th>stories</th>\n",
       "      <th>mainroad</th>\n",
       "      <th>guestroom</th>\n",
       "      <th>basement</th>\n",
       "      <th>hotwaterheating</th>\n",
       "      <th>airconditioning</th>\n",
       "      <th>parking</th>\n",
       "      <th>furnishingstatus</th>\n",
       "    </tr>\n",
       "  </thead>\n",
       "  <tbody>\n",
       "    <tr>\n",
       "      <th>0</th>\n",
       "      <td>13300000</td>\n",
       "      <td>7420</td>\n",
       "      <td>4</td>\n",
       "      <td>2</td>\n",
       "      <td>3</td>\n",
       "      <td>yes</td>\n",
       "      <td>no</td>\n",
       "      <td>no</td>\n",
       "      <td>no</td>\n",
       "      <td>yes</td>\n",
       "      <td>2</td>\n",
       "      <td>furnished</td>\n",
       "    </tr>\n",
       "    <tr>\n",
       "      <th>1</th>\n",
       "      <td>12250000</td>\n",
       "      <td>8960</td>\n",
       "      <td>4</td>\n",
       "      <td>4</td>\n",
       "      <td>4</td>\n",
       "      <td>yes</td>\n",
       "      <td>no</td>\n",
       "      <td>no</td>\n",
       "      <td>no</td>\n",
       "      <td>yes</td>\n",
       "      <td>3</td>\n",
       "      <td>furnished</td>\n",
       "    </tr>\n",
       "    <tr>\n",
       "      <th>2</th>\n",
       "      <td>12250000</td>\n",
       "      <td>9960</td>\n",
       "      <td>3</td>\n",
       "      <td>2</td>\n",
       "      <td>2</td>\n",
       "      <td>yes</td>\n",
       "      <td>no</td>\n",
       "      <td>yes</td>\n",
       "      <td>no</td>\n",
       "      <td>no</td>\n",
       "      <td>2</td>\n",
       "      <td>semi-furnished</td>\n",
       "    </tr>\n",
       "    <tr>\n",
       "      <th>3</th>\n",
       "      <td>12215000</td>\n",
       "      <td>7500</td>\n",
       "      <td>4</td>\n",
       "      <td>2</td>\n",
       "      <td>2</td>\n",
       "      <td>yes</td>\n",
       "      <td>no</td>\n",
       "      <td>yes</td>\n",
       "      <td>no</td>\n",
       "      <td>yes</td>\n",
       "      <td>3</td>\n",
       "      <td>furnished</td>\n",
       "    </tr>\n",
       "    <tr>\n",
       "      <th>4</th>\n",
       "      <td>11410000</td>\n",
       "      <td>7420</td>\n",
       "      <td>4</td>\n",
       "      <td>1</td>\n",
       "      <td>2</td>\n",
       "      <td>yes</td>\n",
       "      <td>yes</td>\n",
       "      <td>yes</td>\n",
       "      <td>no</td>\n",
       "      <td>yes</td>\n",
       "      <td>2</td>\n",
       "      <td>furnished</td>\n",
       "    </tr>\n",
       "  </tbody>\n",
       "</table>\n",
       "</div>"
      ],
      "text/plain": [
       "      price  area  bedrooms  bathrooms  stories mainroad guestroom basement  \\\n",
       "0  13300000  7420         4          2        3      yes        no       no   \n",
       "1  12250000  8960         4          4        4      yes        no       no   \n",
       "2  12250000  9960         3          2        2      yes        no      yes   \n",
       "3  12215000  7500         4          2        2      yes        no      yes   \n",
       "4  11410000  7420         4          1        2      yes       yes      yes   \n",
       "\n",
       "  hotwaterheating airconditioning  parking furnishingstatus  \n",
       "0              no             yes        2        furnished  \n",
       "1              no             yes        3        furnished  \n",
       "2              no              no        2   semi-furnished  \n",
       "3              no             yes        3        furnished  \n",
       "4              no             yes        2        furnished  "
      ]
     },
     "execution_count": 4,
     "metadata": {},
     "output_type": "execute_result"
    }
   ],
   "source": [
    "# Display the first five rows of the dataset\n",
    "data.head()"
   ]
  },
  {
   "cell_type": "code",
   "execution_count": 5,
   "id": "72fc1ae3",
   "metadata": {},
   "outputs": [
    {
     "data": {
      "text/html": [
       "<div>\n",
       "<style scoped>\n",
       "    .dataframe tbody tr th:only-of-type {\n",
       "        vertical-align: middle;\n",
       "    }\n",
       "\n",
       "    .dataframe tbody tr th {\n",
       "        vertical-align: top;\n",
       "    }\n",
       "\n",
       "    .dataframe thead th {\n",
       "        text-align: right;\n",
       "    }\n",
       "</style>\n",
       "<table border=\"1\" class=\"dataframe\">\n",
       "  <thead>\n",
       "    <tr style=\"text-align: right;\">\n",
       "      <th></th>\n",
       "      <th>price</th>\n",
       "      <th>area</th>\n",
       "      <th>bedrooms</th>\n",
       "      <th>bathrooms</th>\n",
       "      <th>stories</th>\n",
       "      <th>mainroad</th>\n",
       "      <th>guestroom</th>\n",
       "      <th>basement</th>\n",
       "      <th>hotwaterheating</th>\n",
       "      <th>airconditioning</th>\n",
       "      <th>parking</th>\n",
       "      <th>furnishingstatus</th>\n",
       "    </tr>\n",
       "  </thead>\n",
       "  <tbody>\n",
       "    <tr>\n",
       "      <th>540</th>\n",
       "      <td>1820000</td>\n",
       "      <td>3000</td>\n",
       "      <td>2</td>\n",
       "      <td>1</td>\n",
       "      <td>1</td>\n",
       "      <td>yes</td>\n",
       "      <td>no</td>\n",
       "      <td>yes</td>\n",
       "      <td>no</td>\n",
       "      <td>no</td>\n",
       "      <td>2</td>\n",
       "      <td>unfurnished</td>\n",
       "    </tr>\n",
       "    <tr>\n",
       "      <th>541</th>\n",
       "      <td>1767150</td>\n",
       "      <td>2400</td>\n",
       "      <td>3</td>\n",
       "      <td>1</td>\n",
       "      <td>1</td>\n",
       "      <td>no</td>\n",
       "      <td>no</td>\n",
       "      <td>no</td>\n",
       "      <td>no</td>\n",
       "      <td>no</td>\n",
       "      <td>0</td>\n",
       "      <td>semi-furnished</td>\n",
       "    </tr>\n",
       "    <tr>\n",
       "      <th>542</th>\n",
       "      <td>1750000</td>\n",
       "      <td>3620</td>\n",
       "      <td>2</td>\n",
       "      <td>1</td>\n",
       "      <td>1</td>\n",
       "      <td>yes</td>\n",
       "      <td>no</td>\n",
       "      <td>no</td>\n",
       "      <td>no</td>\n",
       "      <td>no</td>\n",
       "      <td>0</td>\n",
       "      <td>unfurnished</td>\n",
       "    </tr>\n",
       "    <tr>\n",
       "      <th>543</th>\n",
       "      <td>1750000</td>\n",
       "      <td>2910</td>\n",
       "      <td>3</td>\n",
       "      <td>1</td>\n",
       "      <td>1</td>\n",
       "      <td>no</td>\n",
       "      <td>no</td>\n",
       "      <td>no</td>\n",
       "      <td>no</td>\n",
       "      <td>no</td>\n",
       "      <td>0</td>\n",
       "      <td>furnished</td>\n",
       "    </tr>\n",
       "    <tr>\n",
       "      <th>544</th>\n",
       "      <td>1750000</td>\n",
       "      <td>3850</td>\n",
       "      <td>3</td>\n",
       "      <td>1</td>\n",
       "      <td>2</td>\n",
       "      <td>yes</td>\n",
       "      <td>no</td>\n",
       "      <td>no</td>\n",
       "      <td>no</td>\n",
       "      <td>no</td>\n",
       "      <td>0</td>\n",
       "      <td>unfurnished</td>\n",
       "    </tr>\n",
       "  </tbody>\n",
       "</table>\n",
       "</div>"
      ],
      "text/plain": [
       "       price  area  bedrooms  bathrooms  stories mainroad guestroom basement  \\\n",
       "540  1820000  3000         2          1        1      yes        no      yes   \n",
       "541  1767150  2400         3          1        1       no        no       no   \n",
       "542  1750000  3620         2          1        1      yes        no       no   \n",
       "543  1750000  2910         3          1        1       no        no       no   \n",
       "544  1750000  3850         3          1        2      yes        no       no   \n",
       "\n",
       "    hotwaterheating airconditioning  parking furnishingstatus  \n",
       "540              no              no        2      unfurnished  \n",
       "541              no              no        0   semi-furnished  \n",
       "542              no              no        0      unfurnished  \n",
       "543              no              no        0        furnished  \n",
       "544              no              no        0      unfurnished  "
      ]
     },
     "execution_count": 5,
     "metadata": {},
     "output_type": "execute_result"
    }
   ],
   "source": [
    "# Display the last five rows of the dataset\n",
    "data.tail()"
   ]
  },
  {
   "cell_type": "code",
   "execution_count": 6,
   "id": "c47ade9f",
   "metadata": {},
   "outputs": [
    {
     "data": {
      "text/plain": [
       "(545, 12)"
      ]
     },
     "execution_count": 6,
     "metadata": {},
     "output_type": "execute_result"
    }
   ],
   "source": [
    "# Displaying the size of the dataset\n",
    "data.shape"
   ]
  },
  {
   "cell_type": "code",
   "execution_count": 7,
   "id": "42f4ab16",
   "metadata": {},
   "outputs": [
    {
     "name": "stdout",
     "output_type": "stream",
     "text": [
      "<class 'pandas.core.frame.DataFrame'>\n",
      "RangeIndex: 545 entries, 0 to 544\n",
      "Data columns (total 12 columns):\n",
      " #   Column            Non-Null Count  Dtype \n",
      "---  ------            --------------  ----- \n",
      " 0   price             545 non-null    int64 \n",
      " 1   area              545 non-null    int64 \n",
      " 2   bedrooms          545 non-null    int64 \n",
      " 3   bathrooms         545 non-null    int64 \n",
      " 4   stories           545 non-null    int64 \n",
      " 5   mainroad          545 non-null    object\n",
      " 6   guestroom         545 non-null    object\n",
      " 7   basement          545 non-null    object\n",
      " 8   hotwaterheating   545 non-null    object\n",
      " 9   airconditioning   545 non-null    object\n",
      " 10  parking           545 non-null    int64 \n",
      " 11  furnishingstatus  545 non-null    object\n",
      "dtypes: int64(6), object(6)\n",
      "memory usage: 51.2+ KB\n"
     ]
    }
   ],
   "source": [
    "# Information about the whole dataset\n",
    "data.info()"
   ]
  },
  {
   "cell_type": "code",
   "execution_count": 8,
   "id": "fb64f502",
   "metadata": {},
   "outputs": [
    {
     "data": {
      "text/html": [
       "<div>\n",
       "<style scoped>\n",
       "    .dataframe tbody tr th:only-of-type {\n",
       "        vertical-align: middle;\n",
       "    }\n",
       "\n",
       "    .dataframe tbody tr th {\n",
       "        vertical-align: top;\n",
       "    }\n",
       "\n",
       "    .dataframe thead th {\n",
       "        text-align: right;\n",
       "    }\n",
       "</style>\n",
       "<table border=\"1\" class=\"dataframe\">\n",
       "  <thead>\n",
       "    <tr style=\"text-align: right;\">\n",
       "      <th></th>\n",
       "      <th>price</th>\n",
       "      <th>area</th>\n",
       "      <th>bedrooms</th>\n",
       "      <th>bathrooms</th>\n",
       "      <th>stories</th>\n",
       "      <th>parking</th>\n",
       "    </tr>\n",
       "  </thead>\n",
       "  <tbody>\n",
       "    <tr>\n",
       "      <th>count</th>\n",
       "      <td>5.450000e+02</td>\n",
       "      <td>545.000000</td>\n",
       "      <td>545.000000</td>\n",
       "      <td>545.000000</td>\n",
       "      <td>545.000000</td>\n",
       "      <td>545.000000</td>\n",
       "    </tr>\n",
       "    <tr>\n",
       "      <th>mean</th>\n",
       "      <td>4.766729e+06</td>\n",
       "      <td>5150.541284</td>\n",
       "      <td>2.965138</td>\n",
       "      <td>1.286239</td>\n",
       "      <td>1.805505</td>\n",
       "      <td>0.693578</td>\n",
       "    </tr>\n",
       "    <tr>\n",
       "      <th>std</th>\n",
       "      <td>1.870440e+06</td>\n",
       "      <td>2170.141023</td>\n",
       "      <td>0.738064</td>\n",
       "      <td>0.502470</td>\n",
       "      <td>0.867492</td>\n",
       "      <td>0.861586</td>\n",
       "    </tr>\n",
       "    <tr>\n",
       "      <th>min</th>\n",
       "      <td>1.750000e+06</td>\n",
       "      <td>1650.000000</td>\n",
       "      <td>1.000000</td>\n",
       "      <td>1.000000</td>\n",
       "      <td>1.000000</td>\n",
       "      <td>0.000000</td>\n",
       "    </tr>\n",
       "    <tr>\n",
       "      <th>25%</th>\n",
       "      <td>3.430000e+06</td>\n",
       "      <td>3600.000000</td>\n",
       "      <td>2.000000</td>\n",
       "      <td>1.000000</td>\n",
       "      <td>1.000000</td>\n",
       "      <td>0.000000</td>\n",
       "    </tr>\n",
       "    <tr>\n",
       "      <th>50%</th>\n",
       "      <td>4.340000e+06</td>\n",
       "      <td>4600.000000</td>\n",
       "      <td>3.000000</td>\n",
       "      <td>1.000000</td>\n",
       "      <td>2.000000</td>\n",
       "      <td>0.000000</td>\n",
       "    </tr>\n",
       "    <tr>\n",
       "      <th>75%</th>\n",
       "      <td>5.740000e+06</td>\n",
       "      <td>6360.000000</td>\n",
       "      <td>3.000000</td>\n",
       "      <td>2.000000</td>\n",
       "      <td>2.000000</td>\n",
       "      <td>1.000000</td>\n",
       "    </tr>\n",
       "    <tr>\n",
       "      <th>max</th>\n",
       "      <td>1.330000e+07</td>\n",
       "      <td>16200.000000</td>\n",
       "      <td>6.000000</td>\n",
       "      <td>4.000000</td>\n",
       "      <td>4.000000</td>\n",
       "      <td>3.000000</td>\n",
       "    </tr>\n",
       "  </tbody>\n",
       "</table>\n",
       "</div>"
      ],
      "text/plain": [
       "              price          area    bedrooms   bathrooms     stories  \\\n",
       "count  5.450000e+02    545.000000  545.000000  545.000000  545.000000   \n",
       "mean   4.766729e+06   5150.541284    2.965138    1.286239    1.805505   \n",
       "std    1.870440e+06   2170.141023    0.738064    0.502470    0.867492   \n",
       "min    1.750000e+06   1650.000000    1.000000    1.000000    1.000000   \n",
       "25%    3.430000e+06   3600.000000    2.000000    1.000000    1.000000   \n",
       "50%    4.340000e+06   4600.000000    3.000000    1.000000    2.000000   \n",
       "75%    5.740000e+06   6360.000000    3.000000    2.000000    2.000000   \n",
       "max    1.330000e+07  16200.000000    6.000000    4.000000    4.000000   \n",
       "\n",
       "          parking  \n",
       "count  545.000000  \n",
       "mean     0.693578  \n",
       "std      0.861586  \n",
       "min      0.000000  \n",
       "25%      0.000000  \n",
       "50%      0.000000  \n",
       "75%      1.000000  \n",
       "max      3.000000  "
      ]
     },
     "execution_count": 8,
     "metadata": {},
     "output_type": "execute_result"
    }
   ],
   "source": [
    "# Describing the statistics of the dataset\n",
    "data.describe()"
   ]
  },
  {
   "cell_type": "code",
   "execution_count": 9,
   "id": "204ceeef",
   "metadata": {},
   "outputs": [
    {
     "data": {
      "text/plain": [
       "<function matplotlib.pyplot.show(close=None, block=None)>"
      ]
     },
     "execution_count": 9,
     "metadata": {},
     "output_type": "execute_result"
    },
    {
     "data": {
      "image/png": "[encoded data removed]",
      "text/plain": [
       "<Figure size 432x288 with 1 Axes>"
      ]
     },
     "metadata": {
      "needs_background": "light"
     },
     "output_type": "display_data"
    }
   ],
   "source": [
    "# 3. Perform Below Visualizations.\n",
    "# a) Univariate Analysis\n",
    "\n",
    "sns.histplot(data['area'])\n",
    "plt.title('Histogram of the Area of the houses')\n",
    "plt.show"
   ]
  },
  {
   "cell_type": "code",
   "execution_count": 10,
   "id": "47b8f06d",
   "metadata": {},
   "outputs": [
    {
     "data": {
      "image/png": "[encoded data removed]",
      "text/plain": [
       "<Figure size 432x288 with 1 Axes>"
      ]
     },
     "metadata": {
      "needs_background": "light"
     },
     "output_type": "display_data"
    }
   ],
   "source": [
    "# Histogram for numerical variable\n",
    "\n",
    "plt.hist(data['price'])\n",
    "plt.xlabel('Price')\n",
    "plt.ylabel('Frequency')\n",
    "plt.title('Distribution of Price')\n",
    "plt.show()"
   ]
  },
  {
   "cell_type": "code",
   "execution_count": 11,
   "id": "23c4e836",
   "metadata": {},
   "outputs": [
    {
     "name": "stderr",
     "output_type": "stream",
     "text": [
      "C:\\Anaconda\\lib\\site-packages\\seaborn\\_decorators.py:36: FutureWarning: Pass the following variable as a keyword arg: x. From version 0.12, the only valid positional argument will be `data`, and passing other arguments without an explicit keyword will result in an error or misinterpretation.\n",
      "  warnings.warn(\n"
     ]
    },
    {
     "data": {
      "image/png": "[encoded data removed]",
      "text/plain": [
       "<Figure size 432x288 with 1 Axes>"
      ]
     },
     "metadata": {
      "needs_background": "light"
     },
     "output_type": "display_data"
    }
   ],
   "source": [
    "# Bar plot for categorical variable\n",
    "\n",
    "sns.countplot(data['bedrooms'])\n",
    "plt.xlabel('Number of Bedrooms')\n",
    "plt.ylabel('Count')\n",
    "plt.title('Distribution of Bedrooms')\n",
    "plt.show()"
   ]
  },
  {
   "cell_type": "code",
   "execution_count": 12,
   "id": "fc359937",
   "metadata": {},
   "outputs": [
    {
     "name": "stderr",
     "output_type": "stream",
     "text": [
      "C:\\Anaconda\\lib\\site-packages\\seaborn\\_decorators.py:36: FutureWarning: Pass the following variable as a keyword arg: x. From version 0.12, the only valid positional argument will be `data`, and passing other arguments without an explicit keyword will result in an error or misinterpretation.\n",
      "  warnings.warn(\n"
     ]
    },
    {
     "data": {
      "image/png": "[encoded data removed]",
      "text/plain": [
       "<Figure size 432x288 with 1 Axes>"
      ]
     },
     "metadata": {
      "needs_background": "light"
     },
     "output_type": "display_data"
    }
   ],
   "source": [
    "# Boxplot of a single variable\n",
    "\n",
    "sns.boxplot(data['price'])\n",
    "plt.title(\"Boxplot of Prices of the houses\")\n",
    "plt.show()"
   ]
  },
  {
   "cell_type": "code",
   "execution_count": 13,
   "id": "be1f5f03",
   "metadata": {},
   "outputs": [
    {
     "name": "stderr",
     "output_type": "stream",
     "text": [
      "C:\\Anaconda\\lib\\site-packages\\seaborn\\_decorators.py:36: FutureWarning: Pass the following variables as keyword args: x, y. From version 0.12, the only valid positional argument will be `data`, and passing other arguments without an explicit keyword will result in an error or misinterpretation.\n",
      "  warnings.warn(\n"
     ]
    },
    {
     "data": {
      "image/png": "[encoded data removed]",
      "text/plain": [
       "<Figure size 432x288 with 1 Axes>"
      ]
     },
     "metadata": {
      "needs_background": "light"
     },
     "output_type": "display_data"
    }
   ],
   "source": [
    "#  b) Bi-Variate Analysis\n",
    "\n",
    "# Scatter plot of two variables\n",
    "sns.scatterplot(data['area'], data['price'])\n",
    "plt.xlabel('Area (sqft)')\n",
    "plt.ylabel('Price')\n",
    "plt.title('Area vs. Price')\n",
    "plt.show()"
   ]
  },
  {
   "cell_type": "code",
   "execution_count": 14,
   "id": "19798328",
   "metadata": {},
   "outputs": [
    {
     "name": "stderr",
     "output_type": "stream",
     "text": [
      "C:\\Anaconda\\lib\\site-packages\\seaborn\\_decorators.py:36: FutureWarning: Pass the following variables as keyword args: x, y. From version 0.12, the only valid positional argument will be `data`, and passing other arguments without an explicit keyword will result in an error or misinterpretation.\n",
      "  warnings.warn(\n"
     ]
    },
    {
     "data": {
      "image/png": "[encoded data removed]",
      "text/plain": [
       "<Figure size 432x288 with 1 Axes>"
      ]
     },
     "metadata": {
      "needs_background": "light"
     },
     "output_type": "display_data"
    }
   ],
   "source": [
    "# Grouped bar plot for numerical vs. categorical variables\n",
    "\n",
    "sns.barplot(data.bedrooms,data.price)\n",
    "plt.xlabel('Number of Bedrooms')\n",
    "plt.ylabel('Price')\n",
    "plt.title('Price by Number of Bedrooms')\n",
    "plt.show()"
   ]
  },
  {
   "cell_type": "code",
   "execution_count": 15,
   "id": "68a14beb",
   "metadata": {},
   "outputs": [
    {
     "name": "stderr",
     "output_type": "stream",
     "text": [
      "C:\\Anaconda\\lib\\site-packages\\seaborn\\_decorators.py:36: FutureWarning: Pass the following variables as keyword args: x, y. From version 0.12, the only valid positional argument will be `data`, and passing other arguments without an explicit keyword will result in an error or misinterpretation.\n",
      "  warnings.warn(\n"
     ]
    },
    {
     "data": {
      "image/png": "[encoded data removed]",
      "text/plain": [
       "<Figure size 432x288 with 1 Axes>"
      ]
     },
     "metadata": {
      "needs_background": "light"
     },
     "output_type": "display_data"
    }
   ],
   "source": [
    "# Line plot of two variables\n",
    "\n",
    "sns.lineplot(data['price'], data['stories'])\n",
    "plt.title(\"Line Plot of Price vs. Stories\")\n",
    "plt.show()"
   ]
  },
  {
   "cell_type": "code",
   "execution_count": 16,
   "id": "e3e324a5",
   "metadata": {},
   "outputs": [
    {
     "data": {
      "image/png": "[encoded data removed]",
      "text/plain": [
       "<Figure size 540x540 with 12 Axes>"
      ]
     },
     "metadata": {
      "needs_background": "light"
     },
     "output_type": "display_data"
    }
   ],
   "source": [
    "#  b) Multi-Variate Analysis\n",
    "\n",
    "# Pair plot of multiple variables\n",
    "sns.pairplot(data[['price', 'area', 'stories']])\n",
    "plt.title(\"Pair Plot of Price, Area, Stories\")\n",
    "plt.show()"
   ]
  },
  {
   "cell_type": "code",
   "execution_count": 17,
   "id": "3f775957",
   "metadata": {},
   "outputs": [
    {
     "data": {
      "image/png": "[encoded data removed]",
      "text/plain": [
       "<Figure size 432x288 with 2 Axes>"
      ]
     },
     "metadata": {
      "needs_background": "light"
     },
     "output_type": "display_data"
    }
   ],
   "source": [
    "# Heatmap of correlation matrix\n",
    "\n",
    "correlation_matrix = data.corr()\n",
    "sns.heatmap(correlation_matrix)\n",
    "plt.title('Correlation Matrix')\n",
    "plt.show()"
   ]
  },
  {
   "cell_type": "code",
   "execution_count": 18,
   "id": "343f6468",
   "metadata": {},
   "outputs": [
    {
     "data": {
      "image/png": "[encoded data removed]",
      "text/plain": [
       "<Figure size 720x720 with 20 Axes>"
      ]
     },
     "metadata": {
      "needs_background": "light"
     },
     "output_type": "display_data"
    }
   ],
   "source": [
    "# Scatter matrix plot\n",
    "\n",
    "sns.pairplot(data[['area', 'price', 'bedrooms', 'bathrooms']])\n",
    "plt.show()"
   ]
  },
  {
   "cell_type": "code",
   "execution_count": 19,
   "id": "ccaf22d0",
   "metadata": {},
   "outputs": [
    {
     "data": {
      "text/html": [
       "<div>\n",
       "<style scoped>\n",
       "    .dataframe tbody tr th:only-of-type {\n",
       "        vertical-align: middle;\n",
       "    }\n",
       "\n",
       "    .dataframe tbody tr th {\n",
       "        vertical-align: top;\n",
       "    }\n",
       "\n",
       "    .dataframe thead th {\n",
       "        text-align: right;\n",
       "    }\n",
       "</style>\n",
       "<table border=\"1\" class=\"dataframe\">\n",
       "  <thead>\n",
       "    <tr style=\"text-align: right;\">\n",
       "      <th></th>\n",
       "      <th>price</th>\n",
       "      <th>area</th>\n",
       "      <th>bedrooms</th>\n",
       "      <th>bathrooms</th>\n",
       "      <th>stories</th>\n",
       "      <th>parking</th>\n",
       "    </tr>\n",
       "  </thead>\n",
       "  <tbody>\n",
       "    <tr>\n",
       "      <th>count</th>\n",
       "      <td>5.450000e+02</td>\n",
       "      <td>545.000000</td>\n",
       "      <td>545.000000</td>\n",
       "      <td>545.000000</td>\n",
       "      <td>545.000000</td>\n",
       "      <td>545.000000</td>\n",
       "    </tr>\n",
       "    <tr>\n",
       "      <th>mean</th>\n",
       "      <td>4.766729e+06</td>\n",
       "      <td>5150.541284</td>\n",
       "      <td>2.965138</td>\n",
       "      <td>1.286239</td>\n",
       "      <td>1.805505</td>\n",
       "      <td>0.693578</td>\n",
       "    </tr>\n",
       "    <tr>\n",
       "      <th>std</th>\n",
       "      <td>1.870440e+06</td>\n",
       "      <td>2170.141023</td>\n",
       "      <td>0.738064</td>\n",
       "      <td>0.502470</td>\n",
       "      <td>0.867492</td>\n",
       "      <td>0.861586</td>\n",
       "    </tr>\n",
       "    <tr>\n",
       "      <th>min</th>\n",
       "      <td>1.750000e+06</td>\n",
       "      <td>1650.000000</td>\n",
       "      <td>1.000000</td>\n",
       "      <td>1.000000</td>\n",
       "      <td>1.000000</td>\n",
       "      <td>0.000000</td>\n",
       "    </tr>\n",
       "    <tr>\n",
       "      <th>25%</th>\n",
       "      <td>3.430000e+06</td>\n",
       "      <td>3600.000000</td>\n",
       "      <td>2.000000</td>\n",
       "      <td>1.000000</td>\n",
       "      <td>1.000000</td>\n",
       "      <td>0.000000</td>\n",
       "    </tr>\n",
       "    <tr>\n",
       "      <th>50%</th>\n",
       "      <td>4.340000e+06</td>\n",
       "      <td>4600.000000</td>\n",
       "      <td>3.000000</td>\n",
       "      <td>1.000000</td>\n",
       "      <td>2.000000</td>\n",
       "      <td>0.000000</td>\n",
       "    </tr>\n",
       "    <tr>\n",
       "      <th>75%</th>\n",
       "      <td>5.740000e+06</td>\n",
       "      <td>6360.000000</td>\n",
       "      <td>3.000000</td>\n",
       "      <td>2.000000</td>\n",
       "      <td>2.000000</td>\n",
       "      <td>1.000000</td>\n",
       "    </tr>\n",
       "    <tr>\n",
       "      <th>max</th>\n",
       "      <td>1.330000e+07</td>\n",
       "      <td>16200.000000</td>\n",
       "      <td>6.000000</td>\n",
       "      <td>4.000000</td>\n",
       "      <td>4.000000</td>\n",
       "      <td>3.000000</td>\n",
       "    </tr>\n",
       "  </tbody>\n",
       "</table>\n",
       "</div>"
      ],
      "text/plain": [
       "              price          area    bedrooms   bathrooms     stories  \\\n",
       "count  5.450000e+02    545.000000  545.000000  545.000000  545.000000   \n",
       "mean   4.766729e+06   5150.541284    2.965138    1.286239    1.805505   \n",
       "std    1.870440e+06   2170.141023    0.738064    0.502470    0.867492   \n",
       "min    1.750000e+06   1650.000000    1.000000    1.000000    1.000000   \n",
       "25%    3.430000e+06   3600.000000    2.000000    1.000000    1.000000   \n",
       "50%    4.340000e+06   4600.000000    3.000000    1.000000    2.000000   \n",
       "75%    5.740000e+06   6360.000000    3.000000    2.000000    2.000000   \n",
       "max    1.330000e+07  16200.000000    6.000000    4.000000    4.000000   \n",
       "\n",
       "          parking  \n",
       "count  545.000000  \n",
       "mean     0.693578  \n",
       "std      0.861586  \n",
       "min      0.000000  \n",
       "25%      0.000000  \n",
       "50%      0.000000  \n",
       "75%      1.000000  \n",
       "max      3.000000  "
      ]
     },
     "execution_count": 19,
     "metadata": {},
     "output_type": "execute_result"
    }
   ],
   "source": [
    "# 4. Perform descriptive statistics on the dataset.\n",
    "\n",
    "data.describe()"
   ]
  },
  {
   "cell_type": "code",
   "execution_count": 20,
   "id": "25bc95e0",
   "metadata": {},
   "outputs": [
    {
     "data": {
      "text/plain": [
       "price               0\n",
       "area                0\n",
       "bedrooms            0\n",
       "bathrooms           0\n",
       "stories             0\n",
       "mainroad            0\n",
       "guestroom           0\n",
       "basement            0\n",
       "hotwaterheating     0\n",
       "airconditioning     0\n",
       "parking             0\n",
       "furnishingstatus    0\n",
       "dtype: int64"
      ]
     },
     "execution_count": 20,
     "metadata": {},
     "output_type": "execute_result"
    }
   ],
   "source": [
    "# 5. Check for Missing values and deal with them.\n",
    "\n",
    "data.isnull().sum()\n",
    "# We can see that there are no null values in the dataset"
   ]
  },
  {
   "cell_type": "code",
   "execution_count": 21,
   "id": "5165610d",
   "metadata": {},
   "outputs": [],
   "source": [
    "# 6. Find the outliers and replace them outliers\n",
    "\n",
    "# One commonly used method is the z-score, which measures how many standard deviations a \n",
    "# data point is from the mean. Any data point with a z-score greater than a certain threshold\n",
    "# (e.g., 3 or 4) can be considered an outlier.\n",
    "\n",
    "from scipy import stats\n",
    "\n",
    "# Calculate z-scores for a variable\n",
    "z_scores = stats.zscore(data['price'])\n",
    "threshold = 3\n",
    "\n",
    "# Find outliers\n",
    "outliers = data['price'][abs(z_scores) > threshold]"
   ]
  },
  {
   "cell_type": "code",
   "execution_count": 22,
   "id": "01186a77",
   "metadata": {},
   "outputs": [
    {
     "name": "stderr",
     "output_type": "stream",
     "text": [
      "C:\\Anaconda\\lib\\site-packages\\seaborn\\_decorators.py:36: FutureWarning: Pass the following variable as a keyword arg: x. From version 0.12, the only valid positional argument will be `data`, and passing other arguments without an explicit keyword will result in an error or misinterpretation.\n",
      "  warnings.warn(\n"
     ]
    },
    {
     "data": {
      "text/plain": [
       "<AxesSubplot:xlabel='price'>"
      ]
     },
     "execution_count": 22,
     "metadata": {},
     "output_type": "execute_result"
    },
    {
     "data": {
      "image/png": "[encoded data removed]",
      "text/plain": [
       "<Figure size 432x288 with 1 Axes>"
      ]
     },
     "metadata": {
      "needs_background": "light"
     },
     "output_type": "display_data"
    }
   ],
   "source": [
    "# Replace outliers with the median\n",
    "median = data['price'].median()\n",
    "data['price'] = np.where(abs(z_scores) > threshold, median, data['price'])\n",
    "sns.boxplot(data['price'])"
   ]
  },
  {
   "cell_type": "code",
   "execution_count": 23,
   "id": "dcbe36cc",
   "metadata": {},
   "outputs": [
    {
     "data": {
      "text/plain": [
       "Index(['mainroad', 'guestroom', 'basement', 'hotwaterheating',\n",
       "       'airconditioning', 'furnishingstatus'],\n",
       "      dtype='object')"
      ]
     },
     "execution_count": 23,
     "metadata": {},
     "output_type": "execute_result"
    }
   ],
   "source": [
    "# 7. Check for Categorical columns and perform encoding\n",
    "\n",
    "categorical_columns = data.select_dtypes(include=['object']).columns\n",
    "categorical_columns"
   ]
  },
  {
   "cell_type": "code",
   "execution_count": 24,
   "id": "a91960bc",
   "metadata": {},
   "outputs": [
    {
     "data": {
      "text/html": [
       "<div>\n",
       "<style scoped>\n",
       "    .dataframe tbody tr th:only-of-type {\n",
       "        vertical-align: middle;\n",
       "    }\n",
       "\n",
       "    .dataframe tbody tr th {\n",
       "        vertical-align: top;\n",
       "    }\n",
       "\n",
       "    .dataframe thead th {\n",
       "        text-align: right;\n",
       "    }\n",
       "</style>\n",
       "<table border=\"1\" class=\"dataframe\">\n",
       "  <thead>\n",
       "    <tr style=\"text-align: right;\">\n",
       "      <th></th>\n",
       "      <th>price</th>\n",
       "      <th>area</th>\n",
       "      <th>bedrooms</th>\n",
       "      <th>bathrooms</th>\n",
       "      <th>stories</th>\n",
       "      <th>mainroad</th>\n",
       "      <th>guestroom</th>\n",
       "      <th>basement</th>\n",
       "      <th>hotwaterheating</th>\n",
       "      <th>airconditioning</th>\n",
       "      <th>parking</th>\n",
       "      <th>furnishingstatus</th>\n",
       "    </tr>\n",
       "  </thead>\n",
       "  <tbody>\n",
       "    <tr>\n",
       "      <th>0</th>\n",
       "      <td>4340000.0</td>\n",
       "      <td>7420</td>\n",
       "      <td>4</td>\n",
       "      <td>2</td>\n",
       "      <td>3</td>\n",
       "      <td>1</td>\n",
       "      <td>0</td>\n",
       "      <td>0</td>\n",
       "      <td>0</td>\n",
       "      <td>1</td>\n",
       "      <td>2</td>\n",
       "      <td>0</td>\n",
       "    </tr>\n",
       "    <tr>\n",
       "      <th>1</th>\n",
       "      <td>4340000.0</td>\n",
       "      <td>8960</td>\n",
       "      <td>4</td>\n",
       "      <td>4</td>\n",
       "      <td>4</td>\n",
       "      <td>1</td>\n",
       "      <td>0</td>\n",
       "      <td>0</td>\n",
       "      <td>0</td>\n",
       "      <td>1</td>\n",
       "      <td>3</td>\n",
       "      <td>0</td>\n",
       "    </tr>\n",
       "    <tr>\n",
       "      <th>2</th>\n",
       "      <td>4340000.0</td>\n",
       "      <td>9960</td>\n",
       "      <td>3</td>\n",
       "      <td>2</td>\n",
       "      <td>2</td>\n",
       "      <td>1</td>\n",
       "      <td>0</td>\n",
       "      <td>1</td>\n",
       "      <td>0</td>\n",
       "      <td>0</td>\n",
       "      <td>2</td>\n",
       "      <td>1</td>\n",
       "    </tr>\n",
       "    <tr>\n",
       "      <th>3</th>\n",
       "      <td>4340000.0</td>\n",
       "      <td>7500</td>\n",
       "      <td>4</td>\n",
       "      <td>2</td>\n",
       "      <td>2</td>\n",
       "      <td>1</td>\n",
       "      <td>0</td>\n",
       "      <td>1</td>\n",
       "      <td>0</td>\n",
       "      <td>1</td>\n",
       "      <td>3</td>\n",
       "      <td>0</td>\n",
       "    </tr>\n",
       "    <tr>\n",
       "      <th>4</th>\n",
       "      <td>4340000.0</td>\n",
       "      <td>7420</td>\n",
       "      <td>4</td>\n",
       "      <td>1</td>\n",
       "      <td>2</td>\n",
       "      <td>1</td>\n",
       "      <td>1</td>\n",
       "      <td>1</td>\n",
       "      <td>0</td>\n",
       "      <td>1</td>\n",
       "      <td>2</td>\n",
       "      <td>0</td>\n",
       "    </tr>\n",
       "  </tbody>\n",
       "</table>\n",
       "</div>"
      ],
      "text/plain": [
       "       price  area  bedrooms  bathrooms  stories  mainroad  guestroom  \\\n",
       "0  4340000.0  7420         4          2        3         1          0   \n",
       "1  4340000.0  8960         4          4        4         1          0   \n",
       "2  4340000.0  9960         3          2        2         1          0   \n",
       "3  4340000.0  7500         4          2        2         1          0   \n",
       "4  4340000.0  7420         4          1        2         1          1   \n",
       "\n",
       "   basement  hotwaterheating  airconditioning  parking  furnishingstatus  \n",
       "0         0                0                1        2                 0  \n",
       "1         0                0                1        3                 0  \n",
       "2         1                0                0        2                 1  \n",
       "3         1                0                1        3                 0  \n",
       "4         1                0                1        2                 0  "
      ]
     },
     "execution_count": 24,
     "metadata": {},
     "output_type": "execute_result"
    }
   ],
   "source": [
    "# Label Encoding\n",
    "from sklearn.preprocessing import LabelEncoder\n",
    "\n",
    "label_encoder = LabelEncoder()\n",
    "\n",
    "data.mainroad=label_encoder.fit_transform(data.mainroad)\n",
    "data.guestroom=label_encoder.fit_transform(data.guestroom)\n",
    "data.basement=label_encoder.fit_transform(data.basement)\n",
    "data.hotwaterheating=label_encoder.fit_transform(data.hotwaterheating)\n",
    "data.airconditioning=label_encoder.fit_transform(data.airconditioning)\n",
    "data.furnishingstatus=label_encoder.fit_transform(data.furnishingstatus)\n",
    "data.head()\n",
    "\n",
    "# Method 2:\n",
    "# from sklearn.preprocessing import LabelEncoder\n",
    "\n",
    "# label_encoder = LabelEncoder()\n",
    "# for column in categorical_columns:\n",
    "#     data[column] = label_encoder.fit_transform(data[column])\n",
    "    \n",
    "# data.head()"
   ]
  },
  {
   "cell_type": "code",
   "execution_count": 25,
   "id": "58862447",
   "metadata": {},
   "outputs": [
    {
     "data": {
      "text/html": [
       "<div>\n",
       "<style scoped>\n",
       "    .dataframe tbody tr th:only-of-type {\n",
       "        vertical-align: middle;\n",
       "    }\n",
       "\n",
       "    .dataframe tbody tr th {\n",
       "        vertical-align: top;\n",
       "    }\n",
       "\n",
       "    .dataframe thead th {\n",
       "        text-align: right;\n",
       "    }\n",
       "</style>\n",
       "<table border=\"1\" class=\"dataframe\">\n",
       "  <thead>\n",
       "    <tr style=\"text-align: right;\">\n",
       "      <th></th>\n",
       "      <th>price</th>\n",
       "      <th>area</th>\n",
       "      <th>bedrooms</th>\n",
       "      <th>bathrooms</th>\n",
       "      <th>stories</th>\n",
       "      <th>mainroad</th>\n",
       "      <th>guestroom</th>\n",
       "      <th>basement</th>\n",
       "      <th>hotwaterheating</th>\n",
       "      <th>airconditioning</th>\n",
       "      <th>parking</th>\n",
       "      <th>furnishingstatus</th>\n",
       "    </tr>\n",
       "  </thead>\n",
       "  <tbody>\n",
       "    <tr>\n",
       "      <th>0</th>\n",
       "      <td>4340000.0</td>\n",
       "      <td>7420</td>\n",
       "      <td>4</td>\n",
       "      <td>2</td>\n",
       "      <td>3</td>\n",
       "      <td>1.0</td>\n",
       "      <td>0.0</td>\n",
       "      <td>0.0</td>\n",
       "      <td>0.0</td>\n",
       "      <td>1.0</td>\n",
       "      <td>2</td>\n",
       "      <td>0.0</td>\n",
       "    </tr>\n",
       "    <tr>\n",
       "      <th>1</th>\n",
       "      <td>4340000.0</td>\n",
       "      <td>8960</td>\n",
       "      <td>4</td>\n",
       "      <td>4</td>\n",
       "      <td>4</td>\n",
       "      <td>1.0</td>\n",
       "      <td>0.0</td>\n",
       "      <td>0.0</td>\n",
       "      <td>0.0</td>\n",
       "      <td>1.0</td>\n",
       "      <td>3</td>\n",
       "      <td>0.0</td>\n",
       "    </tr>\n",
       "    <tr>\n",
       "      <th>2</th>\n",
       "      <td>4340000.0</td>\n",
       "      <td>9960</td>\n",
       "      <td>3</td>\n",
       "      <td>2</td>\n",
       "      <td>2</td>\n",
       "      <td>1.0</td>\n",
       "      <td>0.0</td>\n",
       "      <td>1.0</td>\n",
       "      <td>0.0</td>\n",
       "      <td>0.0</td>\n",
       "      <td>2</td>\n",
       "      <td>1.0</td>\n",
       "    </tr>\n",
       "    <tr>\n",
       "      <th>3</th>\n",
       "      <td>4340000.0</td>\n",
       "      <td>7500</td>\n",
       "      <td>4</td>\n",
       "      <td>2</td>\n",
       "      <td>2</td>\n",
       "      <td>1.0</td>\n",
       "      <td>0.0</td>\n",
       "      <td>1.0</td>\n",
       "      <td>0.0</td>\n",
       "      <td>1.0</td>\n",
       "      <td>3</td>\n",
       "      <td>0.0</td>\n",
       "    </tr>\n",
       "    <tr>\n",
       "      <th>4</th>\n",
       "      <td>4340000.0</td>\n",
       "      <td>7420</td>\n",
       "      <td>4</td>\n",
       "      <td>1</td>\n",
       "      <td>2</td>\n",
       "      <td>1.0</td>\n",
       "      <td>1.0</td>\n",
       "      <td>1.0</td>\n",
       "      <td>0.0</td>\n",
       "      <td>1.0</td>\n",
       "      <td>2</td>\n",
       "      <td>0.0</td>\n",
       "    </tr>\n",
       "  </tbody>\n",
       "</table>\n",
       "</div>"
      ],
      "text/plain": [
       "       price  area  bedrooms  bathrooms  stories  mainroad  guestroom  \\\n",
       "0  4340000.0  7420         4          2        3       1.0        0.0   \n",
       "1  4340000.0  8960         4          4        4       1.0        0.0   \n",
       "2  4340000.0  9960         3          2        2       1.0        0.0   \n",
       "3  4340000.0  7500         4          2        2       1.0        0.0   \n",
       "4  4340000.0  7420         4          1        2       1.0        1.0   \n",
       "\n",
       "   basement  hotwaterheating  airconditioning  parking  furnishingstatus  \n",
       "0       0.0              0.0              1.0        2               0.0  \n",
       "1       0.0              0.0              1.0        3               0.0  \n",
       "2       1.0              0.0              0.0        2               1.0  \n",
       "3       1.0              0.0              1.0        3               0.0  \n",
       "4       1.0              0.0              1.0        2               0.0  "
      ]
     },
     "execution_count": 25,
     "metadata": {},
     "output_type": "execute_result"
    }
   ],
   "source": [
    "# Ordinal Encoding\n",
    "\n",
    "from sklearn.preprocessing import OrdinalEncoder\n",
    "\n",
    "ordinal_encoder = OrdinalEncoder()\n",
    "data[categorical_columns] = ordinal_encoder.fit_transform(data[categorical_columns])\n",
    "data.head()"
   ]
  },
  {
   "cell_type": "code",
   "execution_count": 26,
   "id": "e97cf364",
   "metadata": {},
   "outputs": [
    {
     "data": {
      "text/plain": [
       "0    4340000.0\n",
       "1    4340000.0\n",
       "2    4340000.0\n",
       "3    4340000.0\n",
       "4    4340000.0\n",
       "Name: price, dtype: float64"
      ]
     },
     "execution_count": 26,
     "metadata": {},
     "output_type": "execute_result"
    }
   ],
   "source": [
    "# 8. Split the data into dependent and independent variables.\n",
    "\n",
    "# Y is dependent variable(target)\n",
    "\n",
    "y = data['price']\n",
    "y.head()"
   ]
  },
  {
   "cell_type": "code",
   "execution_count": 27,
   "id": "7501693e",
   "metadata": {},
   "outputs": [
    {
     "data": {
      "text/html": [
       "<div>\n",
       "<style scoped>\n",
       "    .dataframe tbody tr th:only-of-type {\n",
       "        vertical-align: middle;\n",
       "    }\n",
       "\n",
       "    .dataframe tbody tr th {\n",
       "        vertical-align: top;\n",
       "    }\n",
       "\n",
       "    .dataframe thead th {\n",
       "        text-align: right;\n",
       "    }\n",
       "</style>\n",
       "<table border=\"1\" class=\"dataframe\">\n",
       "  <thead>\n",
       "    <tr style=\"text-align: right;\">\n",
       "      <th></th>\n",
       "      <th>area</th>\n",
       "      <th>bedrooms</th>\n",
       "      <th>bathrooms</th>\n",
       "      <th>stories</th>\n",
       "      <th>mainroad</th>\n",
       "      <th>guestroom</th>\n",
       "      <th>basement</th>\n",
       "      <th>hotwaterheating</th>\n",
       "      <th>airconditioning</th>\n",
       "      <th>parking</th>\n",
       "      <th>furnishingstatus</th>\n",
       "    </tr>\n",
       "  </thead>\n",
       "  <tbody>\n",
       "    <tr>\n",
       "      <th>0</th>\n",
       "      <td>7420</td>\n",
       "      <td>4</td>\n",
       "      <td>2</td>\n",
       "      <td>3</td>\n",
       "      <td>1.0</td>\n",
       "      <td>0.0</td>\n",
       "      <td>0.0</td>\n",
       "      <td>0.0</td>\n",
       "      <td>1.0</td>\n",
       "      <td>2</td>\n",
       "      <td>0.0</td>\n",
       "    </tr>\n",
       "    <tr>\n",
       "      <th>1</th>\n",
       "      <td>8960</td>\n",
       "      <td>4</td>\n",
       "      <td>4</td>\n",
       "      <td>4</td>\n",
       "      <td>1.0</td>\n",
       "      <td>0.0</td>\n",
       "      <td>0.0</td>\n",
       "      <td>0.0</td>\n",
       "      <td>1.0</td>\n",
       "      <td>3</td>\n",
       "      <td>0.0</td>\n",
       "    </tr>\n",
       "    <tr>\n",
       "      <th>2</th>\n",
       "      <td>9960</td>\n",
       "      <td>3</td>\n",
       "      <td>2</td>\n",
       "      <td>2</td>\n",
       "      <td>1.0</td>\n",
       "      <td>0.0</td>\n",
       "      <td>1.0</td>\n",
       "      <td>0.0</td>\n",
       "      <td>0.0</td>\n",
       "      <td>2</td>\n",
       "      <td>1.0</td>\n",
       "    </tr>\n",
       "    <tr>\n",
       "      <th>3</th>\n",
       "      <td>7500</td>\n",
       "      <td>4</td>\n",
       "      <td>2</td>\n",
       "      <td>2</td>\n",
       "      <td>1.0</td>\n",
       "      <td>0.0</td>\n",
       "      <td>1.0</td>\n",
       "      <td>0.0</td>\n",
       "      <td>1.0</td>\n",
       "      <td>3</td>\n",
       "      <td>0.0</td>\n",
       "    </tr>\n",
       "    <tr>\n",
       "      <th>4</th>\n",
       "      <td>7420</td>\n",
       "      <td>4</td>\n",
       "      <td>1</td>\n",
       "      <td>2</td>\n",
       "      <td>1.0</td>\n",
       "      <td>1.0</td>\n",
       "      <td>1.0</td>\n",
       "      <td>0.0</td>\n",
       "      <td>1.0</td>\n",
       "      <td>2</td>\n",
       "      <td>0.0</td>\n",
       "    </tr>\n",
       "  </tbody>\n",
       "</table>\n",
       "</div>"
      ],
      "text/plain": [
       "   area  bedrooms  bathrooms  stories  mainroad  guestroom  basement  \\\n",
       "0  7420         4          2        3       1.0        0.0       0.0   \n",
       "1  8960         4          4        4       1.0        0.0       0.0   \n",
       "2  9960         3          2        2       1.0        0.0       1.0   \n",
       "3  7500         4          2        2       1.0        0.0       1.0   \n",
       "4  7420         4          1        2       1.0        1.0       1.0   \n",
       "\n",
       "   hotwaterheating  airconditioning  parking  furnishingstatus  \n",
       "0              0.0              1.0        2               0.0  \n",
       "1              0.0              1.0        3               0.0  \n",
       "2              0.0              0.0        2               1.0  \n",
       "3              0.0              1.0        3               0.0  \n",
       "4              0.0              1.0        2               0.0  "
      ]
     },
     "execution_count": 27,
     "metadata": {},
     "output_type": "execute_result"
    }
   ],
   "source": [
    "# X is independent variable or predictors\n",
    "\n",
    "X = data.drop(columns = ['price'],axis = 1)\n",
    "X.head()"
   ]
  },
  {
   "cell_type": "code",
   "execution_count": 28,
   "id": "1bbd9e79",
   "metadata": {},
   "outputs": [
    {
     "data": {
      "text/html": [
       "<div>\n",
       "<style scoped>\n",
       "    .dataframe tbody tr th:only-of-type {\n",
       "        vertical-align: middle;\n",
       "    }\n",
       "\n",
       "    .dataframe tbody tr th {\n",
       "        vertical-align: top;\n",
       "    }\n",
       "\n",
       "    .dataframe thead th {\n",
       "        text-align: right;\n",
       "    }\n",
       "</style>\n",
       "<table border=\"1\" class=\"dataframe\">\n",
       "  <thead>\n",
       "    <tr style=\"text-align: right;\">\n",
       "      <th></th>\n",
       "      <th>area</th>\n",
       "      <th>bedrooms</th>\n",
       "      <th>bathrooms</th>\n",
       "      <th>stories</th>\n",
       "      <th>mainroad</th>\n",
       "      <th>guestroom</th>\n",
       "      <th>basement</th>\n",
       "      <th>hotwaterheating</th>\n",
       "      <th>airconditioning</th>\n",
       "      <th>parking</th>\n",
       "      <th>furnishingstatus</th>\n",
       "    </tr>\n",
       "  </thead>\n",
       "  <tbody>\n",
       "    <tr>\n",
       "      <th>0</th>\n",
       "      <td>1.046726</td>\n",
       "      <td>1.403419</td>\n",
       "      <td>1.421812</td>\n",
       "      <td>1.378217</td>\n",
       "      <td>0.405623</td>\n",
       "      <td>-0.465315</td>\n",
       "      <td>-0.734539</td>\n",
       "      <td>-0.219265</td>\n",
       "      <td>1.472618</td>\n",
       "      <td>1.517692</td>\n",
       "      <td>-1.406286</td>\n",
       "    </tr>\n",
       "    <tr>\n",
       "      <th>1</th>\n",
       "      <td>1.757010</td>\n",
       "      <td>1.403419</td>\n",
       "      <td>5.405809</td>\n",
       "      <td>2.532024</td>\n",
       "      <td>0.405623</td>\n",
       "      <td>-0.465315</td>\n",
       "      <td>-0.734539</td>\n",
       "      <td>-0.219265</td>\n",
       "      <td>1.472618</td>\n",
       "      <td>2.679409</td>\n",
       "      <td>-1.406286</td>\n",
       "    </tr>\n",
       "    <tr>\n",
       "      <th>2</th>\n",
       "      <td>2.218232</td>\n",
       "      <td>0.047278</td>\n",
       "      <td>1.421812</td>\n",
       "      <td>0.224410</td>\n",
       "      <td>0.405623</td>\n",
       "      <td>-0.465315</td>\n",
       "      <td>1.361397</td>\n",
       "      <td>-0.219265</td>\n",
       "      <td>-0.679063</td>\n",
       "      <td>1.517692</td>\n",
       "      <td>-0.091662</td>\n",
       "    </tr>\n",
       "    <tr>\n",
       "      <th>3</th>\n",
       "      <td>1.083624</td>\n",
       "      <td>1.403419</td>\n",
       "      <td>1.421812</td>\n",
       "      <td>0.224410</td>\n",
       "      <td>0.405623</td>\n",
       "      <td>-0.465315</td>\n",
       "      <td>1.361397</td>\n",
       "      <td>-0.219265</td>\n",
       "      <td>1.472618</td>\n",
       "      <td>2.679409</td>\n",
       "      <td>-1.406286</td>\n",
       "    </tr>\n",
       "    <tr>\n",
       "      <th>4</th>\n",
       "      <td>1.046726</td>\n",
       "      <td>1.403419</td>\n",
       "      <td>-0.570187</td>\n",
       "      <td>0.224410</td>\n",
       "      <td>0.405623</td>\n",
       "      <td>2.149083</td>\n",
       "      <td>1.361397</td>\n",
       "      <td>-0.219265</td>\n",
       "      <td>1.472618</td>\n",
       "      <td>1.517692</td>\n",
       "      <td>-1.406286</td>\n",
       "    </tr>\n",
       "  </tbody>\n",
       "</table>\n",
       "</div>"
      ],
      "text/plain": [
       "       area  bedrooms  bathrooms   stories  mainroad  guestroom  basement  \\\n",
       "0  1.046726  1.403419   1.421812  1.378217  0.405623  -0.465315 -0.734539   \n",
       "1  1.757010  1.403419   5.405809  2.532024  0.405623  -0.465315 -0.734539   \n",
       "2  2.218232  0.047278   1.421812  0.224410  0.405623  -0.465315  1.361397   \n",
       "3  1.083624  1.403419   1.421812  0.224410  0.405623  -0.465315  1.361397   \n",
       "4  1.046726  1.403419  -0.570187  0.224410  0.405623   2.149083  1.361397   \n",
       "\n",
       "   hotwaterheating  airconditioning   parking  furnishingstatus  \n",
       "0        -0.219265         1.472618  1.517692         -1.406286  \n",
       "1        -0.219265         1.472618  2.679409         -1.406286  \n",
       "2        -0.219265        -0.679063  1.517692         -0.091662  \n",
       "3        -0.219265         1.472618  2.679409         -1.406286  \n",
       "4        -0.219265         1.472618  1.517692         -1.406286  "
      ]
     },
     "execution_count": 28,
     "metadata": {},
     "output_type": "execute_result"
    }
   ],
   "source": [
    "# 9. Scale the independent variables\n",
    "\n",
    "from sklearn.preprocessing import StandardScaler\n",
    "\n",
    "scaler = StandardScaler()\n",
    "X_scaled = scaler.fit_transform(X)\n",
    "X_scaled_data = pd.DataFrame(X_scaled, columns=X.columns)\n",
    "X_scaled_data.head()"
   ]
  },
  {
   "cell_type": "code",
   "execution_count": 29,
   "id": "a188d03b",
   "metadata": {},
   "outputs": [],
   "source": [
    "# 10. Split the data into training and testing\n",
    "\n",
    "from sklearn.model_selection import train_test_split\n",
    "X_train,X_test,y_train,y_test=train_test_split(X,y,test_size=0.2,random_state=42)"
   ]
  },
  {
   "cell_type": "code",
   "execution_count": 30,
   "id": "f5f5bb6a",
   "metadata": {},
   "outputs": [
    {
     "name": "stdout",
     "output_type": "stream",
     "text": [
      "X_train shape: (436, 11)\n",
      "X_test shape: (109, 11)\n",
      "y_train shape: (436,)\n",
      "y_test shape: (109,)\n"
     ]
    }
   ],
   "source": [
    "# This will print the shapes (number of rows and columns) of each dataset \n",
    "# to confirm that the split was performed correctly.\n",
    "\n",
    "print(\"X_train shape:\", X_train.shape)\n",
    "print(\"X_test shape:\", X_test.shape)\n",
    "print(\"y_train shape:\", y_train.shape)\n",
    "print(\"y_test shape:\", y_test.shape)"
   ]
  },
  {
   "cell_type": "code",
   "execution_count": 31,
   "id": "946fed55",
   "metadata": {},
   "outputs": [],
   "source": [
    "# 11. Build the Model\n",
    "\n",
    "# a) Linear Regression\n",
    "\n",
    "from sklearn.linear_model import LinearRegression\n",
    "# Create a Linear Regression model\n",
    "linear_reg = LinearRegression()"
   ]
  },
  {
   "cell_type": "code",
   "execution_count": 32,
   "id": "ee4c2097",
   "metadata": {},
   "outputs": [],
   "source": [
    "# b) Decision Tree Regression Model\n",
    "\n",
    "from sklearn.tree import DecisionTreeRegressor\n",
    "# Create a Decision Tree Regression model\n",
    "dt_reg = DecisionTreeRegressor()"
   ]
  },
  {
   "cell_type": "code",
   "execution_count": 33,
   "id": "a563bff0",
   "metadata": {},
   "outputs": [],
   "source": [
    "# c) Random Forest Regression Model\n",
    "\n",
    "from sklearn.ensemble import RandomForestRegressor\n",
    "# Create a Random Forest Regression model\n",
    "rf_reg = RandomForestRegressor()"
   ]
  },
  {
   "cell_type": "code",
   "execution_count": 34,
   "id": "7f56d4b4",
   "metadata": {},
   "outputs": [],
   "source": [
    "# d) SVR (Support Vector Regression) Model\n",
    "\n",
    "from sklearn.svm import SVR\n",
    "# Create an SVR model\n",
    "svr = SVR()"
   ]
  },
  {
   "cell_type": "code",
   "execution_count": 35,
   "id": "46b7afe2",
   "metadata": {},
   "outputs": [
    {
     "data": {
      "text/plain": [
       "SVR()"
      ]
     },
     "execution_count": 35,
     "metadata": {},
     "output_type": "execute_result"
    }
   ],
   "source": [
    "# 12. Train the Model\n",
    "\n",
    "# Fit the model to the training data\n",
    "linear_reg.fit(X_train, y_train)\n",
    "dt_reg.fit(X_train, y_train)\n",
    "rf_reg.fit(X_train, y_train)\n",
    "svr.fit(X_train, y_train)"
   ]
  },
  {
   "cell_type": "code",
   "execution_count": 36,
   "id": "faa634b0",
   "metadata": {},
   "outputs": [
    {
     "name": "stdout",
     "output_type": "stream",
     "text": [
      "[4943790.223074   6446424.4621416  3280342.9119212  4734501.54825805\n",
      " 3545126.99675063 3874811.59862458 5570191.52873872 5852915.25160955\n",
      " 2851326.80286633 2705636.07683664 8278813.51989259 3079222.9063635\n",
      " 3181205.04214069 3467571.79391892 4036001.05615912 4858352.39412225\n",
      " 3202339.28819514 4914853.28251231 4608088.42532969 3763038.8208913\n",
      " 5413200.31215039 5536714.32259653 3009034.98082448 4466338.63328921\n",
      " 5167952.17211316 6647484.14805331 3648526.07394419 5253360.20401183\n",
      " 7561192.51874665 3623627.73386471 5645378.93452737 3521714.76914197\n",
      " 6686398.47566421 4448362.07102067 3929674.8860175  5488189.11077891\n",
      " 4958794.30586139 4634787.04326455 3231570.35657345 4533216.96431871\n",
      " 4578317.80233153 3688226.84108037 6426722.58830608 4137720.1113727\n",
      " 3947743.88809924 4352666.74385491 6572666.88702354 4180536.33068169\n",
      " 4092884.3152007  3481437.40895661 6979091.83121215 2958296.86336985\n",
      " 4483051.13626367 4496225.64133224 4064201.76252693 2757353.49565487\n",
      " 6808287.56759247 3235304.57058637 4517197.89217422 3046222.26768901\n",
      " 4443885.24547462 3383959.30416405 4882550.18438638 4429817.70514659\n",
      " 4182460.57057235 4705754.92337618 6516151.1838352  3797115.83590351\n",
      " 5998484.36445628 5652858.41258221 3974092.01311975 4809956.50724952\n",
      " 4638203.39271834 7105870.38134497 3564345.51701139 5463279.50037794\n",
      " 3931422.571605   4155075.86999457 4840489.16888405 3679787.9863314\n",
      " 6739603.7869407  4042245.61192976 5662836.27036406 5125333.45718728\n",
      " 3062913.17452562 6484496.42217301 2909419.78068438 3778000.02143911\n",
      " 7000653.61526127 7630243.45858016 3392216.92537952 6122507.62246447\n",
      " 3802603.46099778 3813740.39877257 7030640.1051066  5061942.78209047\n",
      " 5575914.86625678 6348397.17970911 4532239.67482807 5286895.5557495\n",
      " 3835375.93665686 6135408.19253511 3975089.6034696  5532220.08083725\n",
      " 5038608.7314722  4390331.08494429 6791231.15699882 6196082.62789499\n",
      " 5447489.59913584]\n",
      "[5600000. 6510000. 3605000. 4935000. 2660000. 3500000. 6090000. 4893000.\n",
      " 2380000. 2940000. 4340000. 3255000. 2957500. 3703000. 2653000. 4767000.\n",
      " 3850000. 3850000. 3640000. 4270000. 6160000. 6300000. 2957500. 3010000.\n",
      " 5803000. 4690000. 3150000. 3885000. 5943000. 2961000. 6615000. 2450000.\n",
      " 6195000. 4235000. 2485000. 8295000. 4900000. 2450000. 3115000. 3885000.\n",
      " 5145000. 2870000. 6510000. 4060000. 4270000. 5075000. 7840000. 4480000.\n",
      " 2450000. 3430000. 8080940. 1855000. 3500000. 4900000. 3500000. 2940000.\n",
      " 6195000. 3430000. 4235000. 3255000. 2590000. 3920000. 4900000. 4620000.\n",
      " 3780000. 4480000. 5383000. 2100000. 3500000. 3395000. 3885000. 4235000.\n",
      " 3500000. 6930000. 3290000. 9240000. 4480000. 3010000. 3850000. 4200000.\n",
      " 8575000. 4480000. 5250000. 6125000. 4200000. 5600000. 3465000. 3920000.\n",
      " 8575000. 5950000. 3080000. 6020000. 3500000. 3010000. 8400000. 4550000.\n",
      " 5600000. 6195000. 2852500. 5460000. 3920000. 8295000. 3920000. 3885000.\n",
      " 5950000. 4480000. 7560000. 7210000. 5950000.]\n",
      "[5849025.         6799479.4        3718330.         4509610.\n",
      " 3554635.         3576510.         5025790.         5207615.\n",
      " 2567250.         2973974.5        7127978.2        3340452.5\n",
      " 2999389.16666667 3470110.         3904635.         4000850.\n",
      " 3522878.33333333 5338200.         3878420.         4324915.\n",
      " 5473755.         5876570.         3043468.75       3607625.\n",
      " 5433960.         5717174.4        3249400.         4815580.\n",
      " 6611570.         3349080.         5357275.         3224690.\n",
      " 6829270.         4306820.         3117310.         6343680.\n",
      " 4854360.         3625300.         3083360.         4301465.\n",
      " 4651920.         2784751.66666667 6846420.         4307590.\n",
      " 4027660.         4317810.         7145600.         4127025.\n",
      " 2915570.         3089520.         7876177.4        2554650.\n",
      " 4326980.         4461100.         3474170.         2976221.5\n",
      " 6217575.         3101350.         4606140.         3190340.41666667\n",
      " 4061190.         3657920.         4685100.         4576250.\n",
      " 3832010.         5000800.         6408815.         3155950.\n",
      " 5935335.         4567080.         3928400.         5244715.\n",
      " 4716110.         6549760.         3017070.         5521180.\n",
      " 4235070.         4023250.         4894680.         4051320.\n",
      " 7858166.4        4326700.         5467420.         5887070.\n",
      " 3116190.         5811820.         2910708.5        4065915.\n",
      " 7920234.         6335665.         3293314.5        6403880.\n",
      " 3976560.         3616375.         7985460.         4400655.\n",
      " 4958870.         5936105.         4111870.         5851265.\n",
      " 4367265.         6980330.         4060003.5        4195940.\n",
      " 5800550.         4741240.         7437739.4        7753620.\n",
      " 6119505.        ]\n",
      "[4291002.78933712 4291015.65125902 4290962.07494348 4290982.42923284\n",
      " 4290960.5408283  4291020.04251568 4291045.50338876 4290982.20449907\n",
      " 4290948.37464343 4290941.5288227  4291045.97603588 4290960.04920227\n",
      " 4290956.14092078 4290946.39745807 4290960.73083328 4290954.5749738\n",
      " 4290935.94186634 4291005.00307465 4291001.6748144  4291005.00305622\n",
      " 4290982.87918728 4291022.06071607 4290954.90154133 4290957.57235872\n",
      " 4291043.06077225 4291050.13352708 4290946.26150089 4290945.07021671\n",
      " 4291028.39155705 4290945.07020111 4290961.30390547 4290946.67148829\n",
      " 4291005.00309295 4291017.97295507 4290977.41518982 4290973.59470032\n",
      " 4290974.59091616 4290947.51052384 4290952.0742914  4290942.48666614\n",
      " 4291040.1037296  4290954.57495408 4291014.00455404 4290965.23524498\n",
      " 4291020.6245236  4291002.45546177 4291005.00309137 4290974.46062347\n",
      " 4291040.9193413  4290945.0702014  4291033.23391285 4290945.07019026\n",
      " 4291037.45430377 4290971.45123718 4290954.74659068 4290943.93766721\n",
      " 4290999.43281737 4290938.66953266 4291014.62496612 4290957.57233573\n",
      " 4290947.51052251 4290936.72351041 4291014.41853756 4290981.53113179\n",
      " 4290990.58830324 4290956.85210538 4291017.67331212 4290945.07019831\n",
      " 4291044.48157819 4290998.30623853 4290943.21578182 4291012.75360726\n",
      " 4291044.48156865 4291048.68879482 4290941.35890752 4290966.44989141\n",
      " 4290954.57497536 4290978.29918127 4291005.00307712 4290989.22286708\n",
      " 4291012.75363457 4290962.85383249 4290993.773899   4291019.0632301\n",
      " 4290934.70648843 4291004.12019316 4290942.63466199 4290951.59114328\n",
      " 4291032.3849512  4291005.00309895 4290935.47624831 4291040.91936722\n",
      " 4290992.63666399 4290950.95596468 4291045.9760316  4290955.78883959\n",
      " 4291001.18299823 4291000.55582843 4290993.77388701 4291017.67330181\n",
      " 4290948.37466159 4290973.59471663 4290944.68611605 4290949.2635314\n",
      " 4291005.00308858 4291024.02437891 4291005.00310224 4291005.00308711\n",
      " 4291007.1934276 ]\n"
     ]
    }
   ],
   "source": [
    "# 13. Test the Model\n",
    "\n",
    "# Predict using the trained model\n",
    "y_pred1 = linear_reg.predict(X_test)\n",
    "print(y_pred1)\n",
    "y_pred2 = dt_reg.predict(X_test)\n",
    "print(y_pred2)\n",
    "y_pred3 = rf_reg.predict(X_test)\n",
    "print(y_pred3)\n",
    "y_pred4 = svr.predict(X_test)\n",
    "print(y_pred4)"
   ]
  },
  {
   "cell_type": "code",
   "execution_count": 37,
   "id": "8ab5c089",
   "metadata": {},
   "outputs": [
    {
     "name": "stdout",
     "output_type": "stream",
     "text": [
      "MSE for model 1 1487746016846.762\n",
      "MSE for model 2 2669015406271.5596\n",
      "MSE for model 3 1703514603050.057\n",
      "MSE for model 4 4242229078310.5967\n"
     ]
    }
   ],
   "source": [
    "# 14. Measure the performance using Metrics.\n",
    "\n",
    "# Mean Squared Error (MSE):\n",
    "from sklearn.metrics import mean_squared_error\n",
    "\n",
    "mse1 = mean_squared_error(y_test, y_pred1)\n",
    "print(\"MSE for model 1\", mse1)\n",
    "mse2 = mean_squared_error(y_test, y_pred2)\n",
    "print(\"MSE for model 2\", mse2)\n",
    "mse3 = mean_squared_error(y_test, y_pred3)\n",
    "print(\"MSE for model 3\", mse3)\n",
    "mse4 = mean_squared_error(y_test, y_pred4)\n",
    "print(\"MSE for model 4\", mse4)"
   ]
  },
  {
   "cell_type": "code",
   "execution_count": 38,
   "id": "197a10c9",
   "metadata": {},
   "outputs": [
    {
     "name": "stdout",
     "output_type": "stream",
     "text": [
      "RMSE for model 1 1219731.944669304\n",
      "RMSE for model 2 1633712.1552683506\n",
      "RMSE for model 3 1305187.573895054\n",
      "RMSE for model 4 2059667.2251387108\n"
     ]
    }
   ],
   "source": [
    "# Root Mean Squared Error (RMSE):\n",
    "\n",
    "from sklearn.metrics import mean_squared_error\n",
    "\n",
    "rmse1 = mean_squared_error(y_test, y_pred1, squared=False)\n",
    "print(\"RMSE for model 1\", rmse1)\n",
    "rmse2 = mean_squared_error(y_test, y_pred2, squared=False)\n",
    "print(\"RMSE for model 2\", rmse2)\n",
    "rmse3 = mean_squared_error(y_test, y_pred3, squared=False)\n",
    "print(\"RMSE for model 3\", rmse3)\n",
    "rmse4 = mean_squared_error(y_test, y_pred4, squared=False)\n",
    "print(\"RMSE for model 4\", rmse4)"
   ]
  },
  {
   "cell_type": "code",
   "execution_count": 39,
   "id": "7172d27c",
   "metadata": {},
   "outputs": [
    {
     "name": "stdout",
     "output_type": "stream",
     "text": [
      "r2 score of Model 1 0.6211204093542453\n",
      "r2 score of Model 2 0.3202902557933459\n",
      "r2 score of Model 3 0.5661713033313065\n",
      "r2 score of Model 4 -0.08035511331594947\n"
     ]
    }
   ],
   "source": [
    "# R-squared (Coefficient of Determination):\n",
    "\n",
    "from sklearn.metrics import r2_score\n",
    "\n",
    "r2_1 = r2_score(y_test, y_pred1)\n",
    "print(\"r2 score of Model 1\", r2_1)\n",
    "r2_2 = r2_score(y_test, y_pred2)\n",
    "print(\"r2 score of Model 2\", r2_2)\n",
    "r2_3 = r2_score(y_test, y_pred3)\n",
    "print(\"r2 score of Model 3\", r2_3)\n",
    "r2_4 = r2_score(y_test, y_pred4)\n",
    "print(\"r2 score of Model 4\", r2_4)"
   ]
  },
  {
   "cell_type": "code",
   "execution_count": 40,
   "id": "e20eb867",
   "metadata": {},
   "outputs": [],
   "source": [
    "# We can see that the Model 1 has highest r2 score compared to that of other models"
   ]
  },
  {
   "cell_type": "code",
   "execution_count": 41,
   "id": "1880d4cb",
   "metadata": {},
   "outputs": [],
   "source": [
    "#importing Ridge and Lasso\n",
    "from sklearn.linear_model import Ridge\n",
    "from sklearn.linear_model import Lasso"
   ]
  },
  {
   "cell_type": "code",
   "execution_count": 42,
   "id": "69fdc3c5",
   "metadata": {},
   "outputs": [
    {
     "data": {
      "text/plain": [
       "Lasso()"
      ]
     },
     "execution_count": 42,
     "metadata": {},
     "output_type": "execute_result"
    }
   ],
   "source": [
    "r=Ridge()\n",
    "l=Lasso()\n",
    "r.fit(X_train,y_train)\n",
    "l.fit(X_train,y_train)"
   ]
  },
  {
   "cell_type": "code",
   "execution_count": 43,
   "id": "0a1f349e",
   "metadata": {},
   "outputs": [],
   "source": [
    "pred1=r.predict(X_test)\n",
    "pred2=l.predict(X_test)"
   ]
  },
  {
   "cell_type": "code",
   "execution_count": 45,
   "id": "f9b41a71",
   "metadata": {},
   "outputs": [
    {
     "name": "stdout",
     "output_type": "stream",
     "text": [
      "0.6196427812993508\n",
      "0.6211192189712238\n"
     ]
    }
   ],
   "source": [
    "from sklearn import metrics\n",
    "# R Squared\n",
    "print(metrics.r2_score(y_test,pred1))\n",
    "print(metrics.r2_score(y_test,pred2))"
   ]
  },
  {
   "cell_type": "code",
   "execution_count": 46,
   "id": "491acbd5",
   "metadata": {},
   "outputs": [],
   "source": [
    "# Ridge and Lasso also has almost same accuracy"
   ]
  }
 ],
 "metadata": {
  "kernelspec": {
   "display_name": "Python 3 (ipykernel)",
   "language": "python",
   "name": "python3"
  },
  "language_info": {
   "codemirror_mode": {
    "name": "ipython",
    "version": 3
   },
   "file_extension": ".py",
   "mimetype": "text/x-python",
   "name": "python",
   "nbconvert_exporter": "python",
   "pygments_lexer": "ipython3",
   "version": "3.9.12"
  }
 },
 "nbformat": 4,
 "nbformat_minor": 5
}
